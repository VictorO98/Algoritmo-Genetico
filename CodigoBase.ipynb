{
 "cells": [
  {
   "cell_type": "markdown",
   "metadata": {},
   "source": [
    "<h1>Curso de Sistemas Inteligentes</h1>\n",
    "<h2>Práctica de Algoritmos Genéticos</h2>\n",
    "<h2>Periodo 2020-1</h2>\n",
    "\n",
    "A continuación se propone una plantilla para la implementación de un algoritmo genético genérico. En esta práctica deberá completarse este código para resolver una tarea específica. Primero se definen las funciones auxiliares genéricas, luego las funciones que se deben reescribir para una tarea particular y al final está el programa principal.\n",
    "Se supone que el individuo es una lista, su longitud depende del problema particular.\n",
    "\n",
    "\n",
    "<h1>Reportes </h1>\n",
    "<h2>Desarrollador: Victor Manuel Ospina </h2>\n",
    "<h2>Estructura del individuo </h2>\n",
    "La estructura que maneja el individuo es la siguiente : \n",
    "    <img src=\"ind.png\">\n",
    "Representando los valores dentro del arreglo los identificadores de cada maquina, es decir:\n",
    "<ul>\n",
    "<li> Maquina 1 : 1 </li>\n",
    "<li> Maquina 2 : 2 </li>\n",
    "<li> Maquina 3 : 3 </li>\n",
    "</ul>\n",
    "En orden de izquierda a derecha es la primera tarea primera operación.\n",
    "\n",
    "<h2>Funciones Implementadas</h2>\n",
    "Se implementaron las siguientes funciones para la solución del problema:\n",
    "<ul>\n",
    "<li> Función 1 : fitness </li>\n",
    "<li> Función 2 : ruleta </li>\n",
    "<li> Función 3 : castigo </li>\n",
    "</ul>\n",
    "<h2>Resultados obtenidos en 10 ejecuciones (Seleccion)</h2>\n",
    "Después de ejecutar el algoritmo 10 veces, los resultados obtenidos son los siguientes:\n",
    "Primero calculamos el promedio de score de cada ejecución que es lo siguiente:\n",
    "<br></br>\n",
    "<br></br>\n",
    "Promedio de 10 iteraciones geneticos:  \n",
    "<ul>\n",
    "<li> Iteración 1 : 0.6400137044064936 </li>\n",
    "<li> Iteración 2 : 0.6338200396955225 </li>\n",
    "<li> Iteración 3 : 0.6260653544696146 </li>\n",
    "<li> Iteración 4 : 0.6268969448244416 </li>\n",
    "<li> Iteración 5 : 0.6274382385025069 </li>\n",
    "<li> Iteración 6 : 0.6409139784946235 </li>\n",
    "<li> Iteración 7 : 0.6369336820846023 </li>\n",
    "<li> Iteración 8 : 0.6025268817204299 </li>\n",
    "<li> Iteración 9 : 0.6280529200927681 </li>\n",
    "<li> Iteración 10 : 0.6362346424395758 </li>\n",
    "</ul>\n",
    "<br></br>\n",
    "Por último calculamos el promedio de todas estas 10 iteraciones y obtenemos este resultado:\n",
    "<br></br>\n",
    "<br></br>\n",
    " Promedio General de 10 iteraciones: 0.629889638673058\n",
    "<br></br>\n",
    "<br></br>\n",
    "Por ende, podemos asumir que una aproximación a una solución local es de : 0.6298...\n",
    "\n",
    "<h2>Variando parametros de entrada para el código genético</h2>\n",
    "Repitiendo el mismo procesos anterior pero variando los parametros de entrada obtenemos lo siguiente:\n",
    "<br></br>\n",
    "<br></br>\n",
    "Promedio de 10 iteraciones con entrada de 15 individuos, 200 generaciones, 0.1 mutacion, y resultado se obtiene lo siguiente:\n",
    "<ul>\n",
    "<li> Iteración 1 : 0.5874464047046246 </li>\n",
    "<li> Iteración 2 : 0.6409139784946235 </li>\n",
    "<li> Iteración 3 : 0.5816394799054373 </li>\n",
    "<li> Iteración 4 : 0.5707698236824357 </li>\n",
    "<li> Iteración 5 : 0.631227578430188 </li>\n",
    "<li> Iteración 6 : 0.5952923976608185 </li>\n",
    "<li> Iteración 7 : 0.005 </li>\n",
    "<li> Iteración 8 : 0.6232978723404254 </li>\n",
    "<li> Iteración 9 : 0.6362822035296058 </li>\n",
    "<li> Iteración 10 : 0.6395348837209304 </li>\n",
    "</ul>\n",
    "<br></br>\n",
    "Promedio del total de 10 operaciones:  0.550140462246909\n",
    "<br></br>\n",
    "<br></br>\n",
    "Se observa que los valores se parecen un poco entre todos más no son del todo parecidos, por ende se debería ejecutar más individuos para poder llegar a un resultado mejor.\n",
    "\n",
    "<h2>Resultados obtenidos (Ruleta)</h2>\n",
    "De primer impacto el código se demora un poco más en ejecutar:\n",
    "<br></br>\n",
    "<br></br>\n",
    "Al ejecutar genético una sola vez obtenemos los siguientes resultados:\n",
    "<br></br>\n",
    "<br></br>\n",
    "Obtenemos que el mayor score obtenido en esa ejecución es de : 0.6409139784946236\n",
    "<br></br>\n",
    "<br></br>\n",
    "<h4>Comparación método Ruleta y selección</h4>\n",
    "Obtenemos lo siguiente: \n",
    "<ul>\n",
    "<li> Ruleta : 0.6409139784946236 </li>\n",
    "<li> Seleccion : 0.6395348837209303 </li>\n",
    "</ul>\n",
    "Se nota que ruleta da un valor por encima de selección"
   ]
  },
  {
   "cell_type": "code",
   "execution_count": 2,
   "metadata": {},
   "outputs": [],
   "source": [
    "# Tabla que muestra las maquinas elegibles para cada operación y el tiempo que tarda en realizar dicha \n",
    "# operacion en ellas\n",
    "\n",
    "INF = float('inf') # Infinito para validar que las maquinas nunca harán ese trabajo sobre esa operacion\n",
    "M, T, OP = 3, 3, 8 #Maquinas, trabajos y operaciones\n",
    "auxArrOp = [11,12,13,21,22,31,32,33]  #Trabajos a realizar\n",
    "TIEMPOS = [[10,8,INF],\n",
    "           [INF,12,INF],\n",
    "           [4,6,5],\n",
    "           [11,18,INF],\n",
    "           [20,INF,INF],\n",
    "           [INF,12,16],\n",
    "           [7,12,4],\n",
    "           [14,11,9]]"
   ]
  },
  {
   "cell_type": "code",
   "execution_count": 3,
   "metadata": {},
   "outputs": [],
   "source": [
    "import random\n",
    "from math import isnan\n",
    "\n",
    "# Función de selección\n",
    "# Elige dos individuos aleatoriamente que van a ser cruzados\n",
    "# generacion: lista de individuos que componen la generacion actual\n",
    "# Retorna las posiciones de dos individuos en la generacion\n",
    "def seleccion(generacion):\n",
    "    tGen = len(generacion)\n",
    "    ind1 = random.randint(1, tGen-2)\n",
    "    ind2 = ind1\n",
    "    while ind1 == ind2:\n",
    "        ind2 = random.randint(1,tGen-2)\n",
    "    return (generacion[ind1], generacion[ind2])\n",
    "\n",
    "#gen = [[1,2, 3],[4, 5, 6],[7, 8, 9],[10, 11, 12],[13, 14, 15],[16, 17, 18],[19, 20, 21],[22, 23, 24]]\n",
    "#a,b = seleccion(gen)\n",
    "#print(a)\n",
    "#print(b)\n"
   ]
  },
  {
   "cell_type": "code",
   "execution_count": 4,
   "metadata": {},
   "outputs": [],
   "source": [
    "def ruleta(ind):\n",
    "    ans = [0,0]\n",
    "    indFit = [fitness(i) for i in ind]\n",
    "    acumInd, N = sum(indFit), len(ind)\n",
    "    for i in range(2): # Se ejecuta dos veces para sacar solo los mejores individuos\n",
    "        acumAux = 0 # Acumulador que me compara cada posicion con el indFit para tomar el mejor individuo \n",
    "        numComp = random.uniform(0,acumInd) # numero aleatoorio\n",
    "        j, encontrado = 0, False # variable de iterador y para validar si encuentra los genes\n",
    "        while(not encontrado and j < N):\n",
    "            if(acumAux >= numComp): \n",
    "                # print(\"Valor de I: \", i)\n",
    "                encontrado = True\n",
    "                ans[i] = j - 1\n",
    "                indFit[ans[i]] = 0 # Para sacar de los fits y no lo vuelva a tomar\n",
    "            else: \n",
    "                acumAux = acumAux + indFit[j] # Se suma al acumulador para poder comparar\n",
    "                j += 1\n",
    "    # print(\"Este es mi ans: \", ans)\n",
    "    return ([ind[i] for i in ans])\n",
    "     \n"
   ]
  },
  {
   "cell_type": "code",
   "execution_count": 5,
   "metadata": {},
   "outputs": [],
   "source": [
    "# Funcion de descarte de los individuos menos aptos\n",
    "# generacion: lista de individuos que componen la generacion actual\n",
    "# Retorna la generacion despues de eliminar la mitad menos apta\n",
    "def descarte(generacion):\n",
    "    tGen = len(generacion)\n",
    "    return (generacion[:tGen//2])\n",
    "\n",
    "#descarte(gen)"
   ]
  },
  {
   "cell_type": "code",
   "execution_count": 6,
   "metadata": {},
   "outputs": [],
   "source": [
    "# Funcion de cruce\n",
    "# Precondicion: ambos individuos tienen la misma longitud\n",
    "# ind1 e ind2 son individuos de la generacion actual\n",
    "#Retorna dos nuevos individuos obtenidos a partir de ind1 e ind2 por cruce\n",
    "def cruce(ind1,ind2):\n",
    "    tInd = len(ind1)\n",
    "    pivot = random.randint(1,tInd-1)\n",
    "    new1 = ind1[:pivot] + ind2[pivot:]\n",
    "    new2 = ind2[:pivot] + ind1[pivot:]\n",
    "    return (new1, new2)\n",
    "\n",
    "#cruce([1, 2, 3, 4, 5, 6, 7, 8],[11,12,13,14,15,16,17,18])"
   ]
  },
  {
   "cell_type": "code",
   "execution_count": 7,
   "metadata": {},
   "outputs": [],
   "source": [
    "# Funcion de mutacion\n",
    "# ind es un individuo de la generacion actual\n",
    "# prob es un valor entre 0 y 1 que corresponde a la probabilidad de mutacion\n",
    "# Retorna un individuo que puede ser identico al que entró o puede tener un cambio aleatorio en una posicion\n",
    "def mutacion(ind, prob):\n",
    "    p = random.randint(1,100)\n",
    "    if p < prob*100: \n",
    "        tInd = len(ind)\n",
    "        q = random.randint(0,tInd-1)\n",
    "        ind[q] = random.randint(1,M) # esto se debe ajustar de acuerdo a los valores adecuados para el individuo\n",
    "    return (ind)\n",
    "\n",
    "#mutacion([1, 2, 3, 4, 5, 6, 7, 8],0.9)"
   ]
  },
  {
   "cell_type": "code",
   "execution_count": 8,
   "metadata": {},
   "outputs": [
    {
     "data": {
      "text/plain": [
       "[1, 1, 1, 3, 3, 2, 3, 2]"
      ]
     },
     "execution_count": 8,
     "metadata": {},
     "output_type": "execute_result"
    }
   ],
   "source": [
    "# Funcion newInd\n",
    "# Genera un nuevo individuo aleatorio\n",
    "# Retorna el individuo construido\n",
    "# Esta funcion debe ajustarse en terminos de la tarea que se vaya a resolver, pues la forma y longitud del individuo varian\n",
    "def newInd():\n",
    "    ind = []\n",
    "    for i in range(OP):\n",
    "        ind.append(random.randint(1,M))\n",
    "    return ind\n",
    "\n",
    "newInd()\n",
    "#print(indPrueba)"
   ]
  },
  {
   "cell_type": "code",
   "execution_count": 9,
   "metadata": {},
   "outputs": [],
   "source": [
    "# Funcion primeraGen\n",
    "# nIndGen: numero de individuos por generacion\n",
    "# Retorna la primera generacion poblada con el numero de individuos requeridos\n",
    "# Esta funcion depende completamente del problema que se va a resolver, pues el individuo depende del problema\n",
    "def primeraGen(nIndGen):\n",
    "    generacion = []\n",
    "    while len(generacion) < nIndGen:\n",
    "        generacion.append(newInd())\n",
    "    return generacion\n",
    "\n",
    "\n",
    "# testGen = primeraGen(20)\n",
    "# print(\"Genes de prueba: \", testGen)\n",
    "# print(\"Fit de toda la gen: \", [fitness(i) for i in testGen])\n",
    "# resultadoRoul = ruleta(testGen)\n",
    "# print(\"Resultado de ruleta: \", resultadoRoul)\n",
    "# print(\"Fit de la ruleta: \", [fitness(i) for i in resultadoRoul])"
   ]
  },
  {
   "cell_type": "code",
   "execution_count": 10,
   "metadata": {},
   "outputs": [],
   "source": [
    "def castigo(auxArrMch): # función que castiga las maquinas\n",
    "    ans, N = 0, len(auxArrMch)\n",
    "    i, j = 0, 1\n",
    "    while(i < N and j < N):\n",
    "        if(auxArrMch[i][3][0] == auxArrMch[j][3][0]):\n",
    "            if(auxArrMch[i][2] >= auxArrMch[j][1]):\n",
    "                ans = ans + 1\n",
    "        i = i + 1\n",
    "        j = j + 1\n",
    "    return ans\n",
    "        \n",
    "    "
   ]
  },
  {
   "cell_type": "code",
   "execution_count": 11,
   "metadata": {},
   "outputs": [
    {
     "data": {
      "text/plain": [
       "0.5133333333333333"
      ]
     },
     "execution_count": 11,
     "metadata": {},
     "output_type": "execute_result"
    }
   ],
   "source": [
    "# Funcion fitness\n",
    "# ind: es un individuo de la generacion actual\n",
    "# Retorna un valor numerico que representa la aptitud del individuo\n",
    "# Esta funcion depende completamente del problema que se va a resolver, pues el puntaje asociado al individuo depende del problema\n",
    "\n",
    "def fitness(ind):\n",
    "    auxArrMch = [] # Estructura de lista de tuplas para armar los cuartetos\n",
    "    score, N, inMaq = 0, len(ind), [0 for _ in range(M)]\n",
    "    numCastigos = 0\n",
    "    acum = [0 for _ in range(M)]  # Numero de maquinas para sacar el maximo\n",
    "    for i in range(N): # La sumatoria total de cada maquina\n",
    "        acum[ind[i] - 1] = TIEMPOS[i][ind[i] - 1] + acum[ind[i] - 1] # No tocar\n",
    "        auxArrMch.append((\"M\" + str(ind[i]), inMaq[ind[i] - 1], acum[ind[i] - 1], str(auxArrOp[i])))\n",
    "        inMaq[ind[i] - 1] = acum[ind[i] - 1] + 1\n",
    "    # print(\"Estructura: \", auxArrMch)\n",
    "    numCastigos = castigo(auxArrMch)\n",
    "    # print(\"Numero de castigos: \", numCastigos)\n",
    "    score = max(acum) / sum(acum) # Normalizo para poder calcular un score\n",
    "    if(isnan(score)): score = 1\n",
    "    return (1 - score) - 0.005*numCastigos\n",
    "fitness([1, 2, 3, 2, 1, 2, 3, 3])"
   ]
  },
  {
   "cell_type": "code",
   "execution_count": 28,
   "metadata": {},
   "outputs": [
    {
     "name": "stdout",
     "output_type": "stream",
     "text": [
      "0.6395348837209303\n"
     ]
    }
   ],
   "source": [
    "# Funcion general\n",
    "# nIndGen: numero de individuos por generacion\n",
    "# nGen: numero de generaciones que realizara el algoritmo\n",
    "# pMut: probabilidad de mutacion\n",
    "def genetico(nIndGen,nGen,pMut,funcion):\n",
    "    generacion = primeraGen(nIndGen)\n",
    "    while nGen > 0:\n",
    "        generacion.sort(key = fitness)\n",
    "        generacion.reverse()  # Se invierte la lista para tener los mayores valores al lado izquierdo\n",
    "        generacion = descarte(generacion)\n",
    "        children = []\n",
    "        while len(children) + len(generacion) < nIndGen:\n",
    "            # print(\"Ruleta : \", ruleta(generacion))\n",
    "            if(funcion == 1): \n",
    "                # print(\"Funcion Implementad Ruleta\")\n",
    "                parent1, parent2 = ruleta(generacion)\n",
    "            else: \n",
    "                # print(\"Funcion Implementad Seleccion\")\n",
    "                parent1, parent2 = seleccion(generacion)\n",
    "            child1, child2 = cruce(parent1,parent2)\n",
    "            child1 = mutacion(child1, pMut)\n",
    "            child2 = mutacion(child2, pMut)\n",
    "            children.append(child1)\n",
    "            children.append(child2)\n",
    "        generacion = generacion + children\n",
    "        nGen = nGen - 1\n",
    "    # print(\"Mi generacion: \", generacion)\n",
    "    return [fitness(i) for i in generacion]\n",
    "\n",
    "genetico(50,200,0.1,0)"
   ]
  },
  {
   "cell_type": "code",
   "execution_count": 23,
   "metadata": {},
   "outputs": [
    {
     "name": "stdout",
     "output_type": "stream",
     "text": [
      "Promedio de 10 iteraciones geneticos:  [0.6187167789755709, 0.5734998000077417, 0.6378568416613956, 0.626700866393069, 0.6081202197190936, 0.6242959024069745, 0.6126609436562711, 0.6395348837209304, 0.6266028271773828, 0.62529888255276]\n",
      "Promedio del total de 10 operaciones:  0.6193287946271189\n"
     ]
    }
   ],
   "source": [
    "def reporteSeleccion(N): # Función que me va dar el reporte de ejecutar n veces el algoritmo\n",
    "    proms = []\n",
    "    for i in range(N):\n",
    "        rn = genetico(50,200,0.1,1)\n",
    "        proms.append(sum(rn)/len(rn))\n",
    "    return proms\n",
    "salidaReporte = reporteSeleccion(10)\n",
    "print(\"Promedio de 10 iteraciones geneticos: \",salidaReporte)\n",
    "print(\"Promedio del total de 10 operaciones: \",sum(salidaReporte)/len(salidaReporte))\n",
    "    "
   ]
  }
 ],
 "metadata": {
  "kernelspec": {
   "display_name": "Python 3",
   "language": "python",
   "name": "python3"
  },
  "language_info": {
   "codemirror_mode": {
    "name": "ipython",
    "version": 3
   },
   "file_extension": ".py",
   "mimetype": "text/x-python",
   "name": "python",
   "nbconvert_exporter": "python",
   "pygments_lexer": "ipython3",
   "version": "3.7.4"
  }
 },
 "nbformat": 4,
 "nbformat_minor": 2
}
